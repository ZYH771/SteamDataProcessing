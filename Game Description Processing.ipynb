{
 "cells": [
  {
   "cell_type": "code",
   "execution_count": null,
   "id": "f618f37c",
   "metadata": {},
   "outputs": [],
   "source": [
    "!pip install rake-nltk"
   ]
  },
  {
   "cell_type": "code",
   "execution_count": null,
   "id": "470d0662",
   "metadata": {},
   "outputs": [],
   "source": [
    "import numpy as np\n",
    "import pandas as pd\n",
    "import json\n",
    "from rake_nltk import Rake"
   ]
  },
  {
   "cell_type": "code",
   "execution_count": null,
   "id": "cc89deee",
   "metadata": {},
   "outputs": [],
   "source": [
    "df = pd.read_json(\"metadata-list-1k.json\")"
   ]
  },
  {
   "cell_type": "code",
   "execution_count": null,
   "id": "96151d0f",
   "metadata": {},
   "outputs": [],
   "source": [
    "df = df.T\n",
    "df.info()"
   ]
  },
  {
   "cell_type": "code",
   "execution_count": null,
   "id": "8fb38fbd",
   "metadata": {},
   "outputs": [],
   "source": [
    "df.head()"
   ]
  },
  {
   "cell_type": "code",
   "execution_count": null,
   "id": "1d48e579",
   "metadata": {},
   "outputs": [],
   "source": [
    "cleaned_df = df[\"detailed_description\"]\n",
    "cleaned_df"
   ]
  },
  {
   "cell_type": "code",
   "execution_count": null,
   "id": "2388dfa6",
   "metadata": {},
   "outputs": [],
   "source": [
    "rake_nltk_var = Rake()"
   ]
  },
  {
   "cell_type": "code",
   "execution_count": null,
   "id": "a307f221",
   "metadata": {},
   "outputs": [],
   "source": [
    "index_list = cleaned_df.index\n",
    "i = 0\n",
    "for text in cleaned_df:\n",
    "    rake_nltk_var.extract_keywords_from_text(text)\n",
    "    cleaned_df[index_list[i]] = rake_nltk_var.get_ranked_phrases()\n",
    "    i += 1"
   ]
  },
  {
   "cell_type": "code",
   "execution_count": null,
   "id": "8297e4b4",
   "metadata": {},
   "outputs": [],
   "source": [
    "cleaned_df[10]"
   ]
  },
  {
   "cell_type": "code",
   "execution_count": null,
   "id": "ad4d0d12",
   "metadata": {},
   "outputs": [],
   "source": [
    "df[\"detailed_description\"][10]"
   ]
  },
  {
   "cell_type": "code",
   "execution_count": null,
   "id": "ea3bba9c",
   "metadata": {},
   "outputs": [],
   "source": [
    "rake_nltk_var.extract_keywords_from_text(cleaned_df[10])\n",
    "keyword_extracted = rake_nltk_var.get_ranked_phrases()\n",
    "print(keyword_extracted)"
   ]
  },
  {
   "cell_type": "code",
   "execution_count": null,
   "id": "bbd83f25",
   "metadata": {},
   "outputs": [],
   "source": [
    "cleaned_df"
   ]
  },
  {
   "cell_type": "code",
   "execution_count": null,
   "id": "9944019b",
   "metadata": {},
   "outputs": [],
   "source": []
  }
 ],
 "metadata": {
  "kernelspec": {
   "display_name": "Python 3 (ipykernel)",
   "language": "python",
   "name": "python3"
  },
  "language_info": {
   "codemirror_mode": {
    "name": "ipython",
    "version": 3
   },
   "file_extension": ".py",
   "mimetype": "text/x-python",
   "name": "python",
   "nbconvert_exporter": "python",
   "pygments_lexer": "ipython3",
   "version": "3.9.7"
  }
 },
 "nbformat": 4,
 "nbformat_minor": 5
}
